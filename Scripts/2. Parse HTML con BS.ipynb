{
 "cells": [
  {
   "cell_type": "code",
   "execution_count": 1,
   "metadata": {},
   "outputs": [],
   "source": [
    "import requests\n",
    "from bs4 import BeautifulSoup"
   ]
  },
  {
   "cell_type": "code",
   "execution_count": 2,
   "metadata": {},
   "outputs": [],
   "source": [
    "url = \"https://www.pagina12.com.ar/\""
   ]
  },
  {
   "cell_type": "code",
   "execution_count": 3,
   "metadata": {},
   "outputs": [],
   "source": [
    "p12 = requests.get(url)"
   ]
  },
  {
   "cell_type": "code",
   "execution_count": 4,
   "metadata": {},
   "outputs": [],
   "source": [
    "s = BeautifulSoup(p12.text, 'lxml')"
   ]
  },
  {
   "cell_type": "code",
   "execution_count": 5,
   "metadata": {},
   "outputs": [],
   "source": [
    "secciones = s.find('ul',attrs={'class':'horizontal-list main-sections hide-on-dropdown'}).find_all('li')"
   ]
  },
  {
   "cell_type": "code",
   "execution_count": 6,
   "metadata": {},
   "outputs": [],
   "source": [
    "seccion = secciones[0]"
   ]
  },
  {
   "cell_type": "code",
   "execution_count": 7,
   "metadata": {},
   "outputs": [
    {
     "data": {
      "text/plain": [
       "<a href=\"https://www.pagina12.com.ar/secciones/el-pais\">El país</a>"
      ]
     },
     "execution_count": 7,
     "metadata": {},
     "output_type": "execute_result"
    }
   ],
   "source": [
    "seccion.a"
   ]
  },
  {
   "cell_type": "code",
   "execution_count": 8,
   "metadata": {},
   "outputs": [
    {
     "data": {
      "text/plain": [
       "'https://www.pagina12.com.ar/secciones/el-pais'"
      ]
     },
     "execution_count": 8,
     "metadata": {},
     "output_type": "execute_result"
    }
   ],
   "source": [
    "seccion.a.get('href')"
   ]
  },
  {
   "cell_type": "code",
   "execution_count": 9,
   "metadata": {},
   "outputs": [
    {
     "data": {
      "text/plain": [
       "['https://www.pagina12.com.ar/secciones/el-pais',\n",
       " 'https://www.pagina12.com.ar/secciones/economia',\n",
       " 'https://www.pagina12.com.ar/secciones/sociedad',\n",
       " 'https://www.pagina12.com.ar/suplementos/cultura-y-espectaculos',\n",
       " 'https://www.pagina12.com.ar/secciones/deportes',\n",
       " 'https://www.pagina12.com.ar/secciones/el-mundo',\n",
       " 'https://www.pagina12.com.ar/secciones/dialogos']"
      ]
     },
     "execution_count": 9,
     "metadata": {},
     "output_type": "execute_result"
    }
   ],
   "source": [
    "links_secciones = [seccion.a.get('href') for seccion in secciones]\n",
    "links_secciones"
   ]
  },
  {
   "cell_type": "markdown",
   "metadata": {},
   "source": [
    "print(s.prettify())"
   ]
  },
  {
   "cell_type": "code",
   "execution_count": 10,
   "metadata": {},
   "outputs": [
    {
     "data": {
      "text/plain": [
       "200"
      ]
     },
     "execution_count": 10,
     "metadata": {},
     "output_type": "execute_result"
    }
   ],
   "source": [
    "sec = requests.get(links_secciones[0])\n",
    "sec.status_code"
   ]
  },
  {
   "cell_type": "code",
   "execution_count": 11,
   "metadata": {},
   "outputs": [
    {
     "data": {
      "text/plain": [
       "<Response [200]>"
      ]
     },
     "execution_count": 11,
     "metadata": {},
     "output_type": "execute_result"
    }
   ],
   "source": [
    "sec"
   ]
  },
  {
   "cell_type": "code",
   "execution_count": 12,
   "metadata": {},
   "outputs": [],
   "source": [
    "s_seccion = BeautifulSoup(sec.text, 'lxml')\n",
    "#print(s_seccion.prettify())"
   ]
  },
  {
   "cell_type": "code",
   "execution_count": null,
   "metadata": {},
   "outputs": [],
   "source": []
  },
  {
   "cell_type": "code",
   "execution_count": 13,
   "metadata": {
    "scrolled": false
   },
   "outputs": [
    {
     "data": {
      "text/plain": [
       "<div class=\"article-item__content\"><!-- Title --><h2 class=\"title-list\"><a href=\"https://www.pagina12.com.ar/310568-oscar-parrilli-el-lawfare-sigue-vivito-y-coleando\">Oscar Parrilli: “El Lawfare sigue vivito y coleando”</a></h2><!-- Kicker --><p><a href=\"https://www.pagina12.com.ar/310568-oscar-parrilli-el-lawfare-sigue-vivito-y-coleando\">Definiciones del senador del Frente de Todos</a></p></div>"
      ]
     },
     "execution_count": 13,
     "metadata": {},
     "output_type": "execute_result"
    }
   ],
   "source": [
    "s_seccion.find('div',attrs={'class': 'article-item__content'})"
   ]
  },
  {
   "cell_type": "code",
   "execution_count": 14,
   "metadata": {},
   "outputs": [
    {
     "data": {
      "text/plain": [
       "'https://www.pagina12.com.ar/310568-oscar-parrilli-el-lawfare-sigue-vivito-y-coleando'"
      ]
     },
     "execution_count": 14,
     "metadata": {},
     "output_type": "execute_result"
    }
   ],
   "source": [
    "s_seccion.find('div',attrs={'class': 'article-item__content'}).a.get('href')"
   ]
  },
  {
   "cell_type": "code",
   "execution_count": 15,
   "metadata": {},
   "outputs": [],
   "source": [
    "article_list = s_seccion.find('div', attrs={'class': 'articles-list'})"
   ]
  },
  {
   "cell_type": "code",
   "execution_count": 16,
   "metadata": {},
   "outputs": [],
   "source": [
    "def notices(url):\n",
    "    articles_list = []\n",
    "    \n",
    "    req = requests.get(url)\n",
    "    soup = BeautifulSoup(req.text, 'lxml')\n",
    "\n",
    "    secciones = s.find('ul',attrs={'class':'horizontal-list main-sections hide-on-dropdown'}).find_all('li')\n",
    "    links_secciones = [seccion.a.get('href') for seccion in secciones]\n",
    "    \n",
    "    for article in links_secciones:\n",
    "        sec = requests.get(article)\n",
    "        soup_n = BeautifulSoup(sec.text, 'lxml')\n",
    "        \n",
    "        arti_link = soup_n.find('div',attrs={'class': 'article-item__content'})\n",
    "        if arti_link:\n",
    "            arti_link = arti_link.find('h2', attrs={'class': 'title-list'})\n",
    "            articles_list.append(arti_link.a.get('href'))\n",
    "    \n",
    "        \n",
    "        arti_link = soup_n.find('div', attrs={'articles-list is-grid-col2 grid-mobile-row'})\n",
    "        if arti_link:\n",
    "            articles_list.append(arti_link.find('div',attrs={'class': 'article-item__header'}).a.get('href'))\n",
    "        \n",
    "        \n",
    "        arti_link = soup_n.find_all('div', attrs={'class':'articles-list'})\n",
    "        if arti_link:\n",
    "            arti_link = arti_link[1].find_all('div', attrs={'class':'article-item__header'})\n",
    "            for arti in arti_link:\n",
    "                articulito = arti.a.get('href')\n",
    "                articles_list.append(articulito)\n",
    "    \n",
    "    \n",
    "    return articles_list\n",
    "    \n",
    "url = \"https://www.pagina12.com.ar/\"\n",
    "urls= notices(url)"
   ]
  },
  {
   "cell_type": "code",
   "execution_count": 17,
   "metadata": {},
   "outputs": [
    {
     "data": {
      "text/plain": [
       "60"
      ]
     },
     "execution_count": 17,
     "metadata": {},
     "output_type": "execute_result"
    }
   ],
   "source": [
    "len(urls)"
   ]
  },
  {
   "cell_type": "code",
   "execution_count": 18,
   "metadata": {},
   "outputs": [],
   "source": [
    "url_mala = url.replace('2','3')"
   ]
  },
  {
   "cell_type": "code",
   "execution_count": 19,
   "metadata": {},
   "outputs": [
    {
     "name": "stdout",
     "output_type": "stream",
     "text": [
      "error: HTTPSConnectionPool(host='www.pagina13.com.ar', port=443): Max retries exceeded with url: / (Caused by NewConnectionError('<urllib3.connection.VerifiedHTTPSConnection object at 0x00000253CE5D1708>: Failed to establish a new connection: [Errno 11001] getaddrinfo failed'))\n",
      "\n"
     ]
    }
   ],
   "source": [
    "try:\n",
    "    r = requests.get(url_mala)\n",
    "except Exception as e:\n",
    "    print(\"error: {}\\n\".format(e))\n",
    "    "
   ]
  },
  {
   "cell_type": "code",
   "execution_count": 20,
   "metadata": {},
   "outputs": [
    {
     "data": {
      "text/plain": [
       "'https://www.pagina12.com.ar/309681-los-referentes-del-frente-de-todos-en-la-ciudad-defendieron-'"
      ]
     },
     "execution_count": 20,
     "metadata": {},
     "output_type": "execute_result"
    }
   ],
   "source": [
    "url_nota = urls[0]\n",
    "url_nota"
   ]
  },
  {
   "cell_type": "code",
   "execution_count": 54,
   "metadata": {},
   "outputs": [],
   "source": [
    "def extract_info(urls):\n",
    "    \n",
    "    titles =[]\n",
    "    dates  =[]\n",
    "    intros =[]\n",
    "    bodies =[]\n",
    "    authors=[]\n",
    "    \n",
    "    for url_single in urls:\n",
    "        nota = requests.get(url_single)\n",
    "        if str(nota.status_code)==\"200\":\n",
    "            s_nota = BeautifulSoup(nota.text, 'lxml')\n",
    "            #print(\"Añadiendo noticia de: {}\".format(url_single))\n",
    "        #Extract title\n",
    "            title = s_nota.find('div', attrs={'class':'article-titles'}).h1\n",
    "            if title:\n",
    "                titles.append(title.text.replace('\\xa0',' '))\n",
    "            else: titles.append([])\n",
    "        #Exract date\n",
    "            date = s_nota.find('div', attrs={'class':'article-info'})\n",
    "            dates.append(date.find('div', attrs={'time'}).span.get('datetime'))\n",
    "         #Extract intro\n",
    "            intro = s_nota.find('div', attrs={'class':'article-titles'}).div\n",
    "            if intro:\n",
    "                intros.append(intro.text)\n",
    "            else:\n",
    "                intros.append([])\n",
    "\n",
    "            ##Extract body\n",
    "                #This one is more difficult due to the html structure\n",
    "            body = s_nota.find('div', attrs={'class':'article-text'}).find_all('p')\n",
    "            body_total = []\n",
    "\n",
    "            for element in body:\n",
    "                body_total.append(str(element).replace('<p>', '').replace('</p>','').replace('<b>', '').replace('</b>','').replace('<br/>','').replace('&amp;','&'))\n",
    "                body_total.append('\\n\\n')\n",
    "                #Finally, we join all the elements and add intro spaces\n",
    "            bodies.append(''.join(body_total) )\n",
    "\n",
    "            # Extract Author\n",
    "            author = s_nota.find('div', attrs={'class':'article-main-media'}).find('div', attrs={'class':'article-author'})\n",
    "            if author:\n",
    "                authors.append(author.a.text)\n",
    "            else: authors.append([])\n",
    "        \n",
    "            \n",
    "    return titles, dates, intros, bodies, authors"
   ]
  },
  {
   "cell_type": "code",
   "execution_count": 55,
   "metadata": {},
   "outputs": [],
   "source": [
    "titles, dates, intros, bodies, authors = extract_info(urls)"
   ]
  },
  {
   "cell_type": "code",
   "execution_count": 56,
   "metadata": {},
   "outputs": [
    {
     "name": "stdout",
     "output_type": "stream",
     "text": [
      "https://www.pagina12.com.ar/309679-alberto-fernandez-recibio-a-llamosas-fue-el-resultado-de-la-\n",
      "Alberto Fernández recibió a Llamosas: \"Fue el resultado de la unidad\"\n"
     ]
    }
   ],
   "source": [
    "print(urls[1])\n",
    "print(titles[1])\n",
    "#print(intros[1])\n",
    "#print(bodies[1])\n",
    "#print(dates[1])"
   ]
  },
  {
   "cell_type": "code",
   "execution_count": null,
   "metadata": {},
   "outputs": [],
   "source": [
    "url = 'https://www.pagina12.com.ar/309358-rodriguez-larreta-hace-campana-y-apuesta-todo-a-la-corte-sup'\n",
    "p12 = requests.get(url)\n",
    "s = BeautifulSoup(p12.text, 'lxml')"
   ]
  },
  {
   "cell_type": "code",
   "execution_count": null,
   "metadata": {},
   "outputs": [],
   "source": [
    "media = s.find('div', attrs={'class':'article-main-media-image'})\n",
    "imagenes = media.find_all('img')\n",
    "\n",
    "if len(imagenes)==0:\n",
    "    print(\"NO se encontraron imágenes\")\n",
    "else:\n",
    "    image = imagenes[-1]\n",
    "    img_src = image.get('data-src')\n",
    "    print(img_src)"
   ]
  },
  {
   "cell_type": "code",
   "execution_count": null,
   "metadata": {},
   "outputs": [],
   "source": [
    "img_req = requests.get(img_src)\n",
    "img_req.status_code"
   ]
  },
  {
   "cell_type": "code",
   "execution_count": 26,
   "metadata": {},
   "outputs": [],
   "source": [
    "from IPython.display import Image"
   ]
  },
  {
   "cell_type": "code",
   "execution_count": null,
   "metadata": {},
   "outputs": [],
   "source": [
    "Image(img_req.content)"
   ]
  },
  {
   "cell_type": "code",
   "execution_count": 27,
   "metadata": {},
   "outputs": [],
   "source": [
    "import pandas as pd"
   ]
  },
  {
   "cell_type": "code",
   "execution_count": 57,
   "metadata": {},
   "outputs": [],
   "source": [
    "data = {'title': titles,\n",
    "        'author': authors,\n",
    "        'date': dates,\n",
    "        'intro': intros,\n",
    "        'body': bodies,\n",
    "        'url': urls\n",
    "       }"
   ]
  },
  {
   "cell_type": "code",
   "execution_count": 60,
   "metadata": {},
   "outputs": [],
   "source": [
    "df = pd.DataFrame(data)"
   ]
  },
  {
   "cell_type": "code",
   "execution_count": 66,
   "metadata": {},
   "outputs": [
    {
     "data": {
      "text/plain": [
       "<pandas.core.indexing._LocIndexer at 0x253d12314f8>"
      ]
     },
     "execution_count": 66,
     "metadata": {},
     "output_type": "execute_result"
    }
   ],
   "source": [
    "df.loc(1)"
   ]
  },
  {
   "cell_type": "code",
   "execution_count": null,
   "metadata": {},
   "outputs": [],
   "source": []
  }
 ],
 "metadata": {
  "kernelspec": {
   "display_name": "Python 3",
   "language": "python",
   "name": "python3"
  },
  "language_info": {
   "codemirror_mode": {
    "name": "ipython",
    "version": 3
   },
   "file_extension": ".py",
   "mimetype": "text/x-python",
   "name": "python",
   "nbconvert_exporter": "python",
   "pygments_lexer": "ipython3",
   "version": "3.7.4"
  }
 },
 "nbformat": 4,
 "nbformat_minor": 2
}
