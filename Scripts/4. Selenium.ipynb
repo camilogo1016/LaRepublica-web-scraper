{
 "cells": [
  {
   "cell_type": "code",
   "execution_count": 194,
   "metadata": {},
   "outputs": [],
   "source": [
    "import requests\n",
    "from bs4 import BeautifulSoup\n",
    "from time import sleep"
   ]
  },
  {
   "cell_type": "code",
   "execution_count": 3,
   "metadata": {},
   "outputs": [],
   "source": [
    "url = 'https://www.latamairlines.com/co/es/ofertas-vuelos?dataFlight=%7B%22tripTypeSelected%22%3A%7B%22label%22%3A%22Ida%22%2C%22value%22%3A%22OW%22%7D%2C%22cabinSelected%22%3A%7B%22label%22%3A%22Economy%22%2C%22value%22%3A%22Economy%22%7D%2C%22passengerSelected%22%3A%7B%22adultQuantity%22%3A1%2C%22childrenQuantity%22%3A0%2C%22infantQuantity%22%3A0%7D%2C%22originSelected%22%3A%7B%22id%22%3A%22MDE_CO_AIRPORT%22%2C%22name%22%3A%22Jose+Maria+C%C3%B3rdova+Int.%22%2C%22city%22%3A%22Medell%C3%ADn%22%2C%22country%22%3A%22Colombia%22%2C%22iata%22%3A%22MDE%22%2C%22latitude%22%3A6.16454%2C%22longitude%22%3A-75.4231%2C%22timezone%22%3A-5%2C%22tz%22%3A%22America%2FBogota%22%2C%22type%22%3A%22AIRPORT%22%2C%22countryAlpha2%22%3A%22CO%22%2C%22airportIataCode%22%3A%22MDE%22%7D%2C%22destinationSelected%22%3A%7B%22id%22%3A%22LIM_PE_AIRPORT%22%2C%22name%22%3A%22Jorge+Ch%C3%A1vez+Int.%22%2C%22city%22%3A%22Lima%22%2C%22country%22%3A%22Per%C3%BA%22%2C%22iata%22%3A%22LIM%22%2C%22latitude%22%3A-12.0219%2C%22longitude%22%3A-77.114305%2C%22timezone%22%3A-5%2C%22tz%22%3A%22America%2FLima%22%2C%22type%22%3A%22AIRPORT%22%2C%22countryAlpha2%22%3A%22PE%22%2C%22airportIataCode%22%3A%22LIM%22%7D%2C%22dateGoSelected%22%3A%222021-01-13T17%3A00%3A00.000Z%22%2C%22dateReturnSelected%22%3Anull%2C%22redemption%22%3Afalse%7D'"
   ]
  },
  {
   "cell_type": "code",
   "execution_count": 6,
   "metadata": {},
   "outputs": [],
   "source": [
    "from selenium import webdriver"
   ]
  },
  {
   "cell_type": "markdown",
   "metadata": {},
   "source": [
    "## Para Firefox son estas configuraciones"
   ]
  },
  {
   "cell_type": "markdown",
   "metadata": {},
   "source": [
    "Paso 1: Instanciar un <b>Driver</b> del navegador"
   ]
  },
  {
   "cell_type": "code",
   "execution_count": 83,
   "metadata": {},
   "outputs": [],
   "source": [
    "options = webdriver.FirefoxOptions()\n",
    "options.add_argument('-private')\n",
    "driver = webdriver.Firefox(executable_path=\"../geckodriver\", options=options)"
   ]
  },
  {
   "cell_type": "markdown",
   "metadata": {},
   "source": [
    "Paso 2: Hacer que el navegador cargue la página web"
   ]
  },
  {
   "cell_type": "code",
   "execution_count": 84,
   "metadata": {},
   "outputs": [],
   "source": [
    "driver.get(url)"
   ]
  },
  {
   "cell_type": "markdown",
   "metadata": {},
   "source": [
    "Paso 3: Extraer la información de la Pagina"
   ]
  },
  {
   "cell_type": "code",
   "execution_count": 171,
   "metadata": {},
   "outputs": [
    {
     "data": {
      "text/plain": [
       "10"
      ]
     },
     "execution_count": 171,
     "metadata": {},
     "output_type": "execute_result"
    }
   ],
   "source": [
    "vuelos = driver.find_elements_by_xpath('//li[@class = \"sc-fHSTwm danPdA\"]')\n",
    "len(vuelos)"
   ]
  },
  {
   "cell_type": "code",
   "execution_count": 172,
   "metadata": {},
   "outputs": [
    {
     "data": {
      "text/plain": [
       "(2, '7:58 a. m.', '9:30 p. m.', '13 h 32 min')"
      ]
     },
     "execution_count": 172,
     "metadata": {},
     "output_type": "execute_result"
    }
   ],
   "source": [
    "vuelo_1=vuelos[0]\n",
    "hora = vuelo_1.find_elements_by_xpath('.//span[@class=\"sc-lnmtFM ewiHQE\"]')\n",
    "duracion = vuelo_1.find_element_by_xpath('.//span[@class=\"sc-FQuPU dkpBdw\"]').text \n",
    "len(hora),hora[0].text, hora[1].text, duracion"
   ]
  },
  {
   "cell_type": "markdown",
   "metadata": {},
   "source": [
    "Para acceder a elementos"
   ]
  },
  {
   "cell_type": "code",
   "execution_count": 173,
   "metadata": {},
   "outputs": [],
   "source": [
    "boton_escalas = vuelo_1.find_element_by_xpath('.//div[@class=\"sc-iuDHTM gHiWYR\"]/div')\n",
    "boton_escalas.click()"
   ]
  },
  {
   "cell_type": "code",
   "execution_count": 175,
   "metadata": {},
   "outputs": [
    {
     "data": {
      "text/plain": [
       "1"
      ]
     },
     "execution_count": 175,
     "metadata": {},
     "output_type": "execute_result"
    }
   ],
   "source": [
    "escalas = vuelo_1.find_elements_by_xpath('//section[@data-test=\"section-info-leg\"]')\n",
    "cantidad_escalas = len(escalas)-1\n",
    "cantidad_escalas"
   ]
  },
  {
   "cell_type": "code",
   "execution_count": 177,
   "metadata": {},
   "outputs": [
    {
     "data": {
      "text/plain": [
       "('MDE', '7:58 a. m.')"
      ]
     },
     "execution_count": 177,
     "metadata": {},
     "output_type": "execute_result"
    }
   ],
   "source": [
    "airp_salida = escalas[0].find_element_by_xpath('//div[@class=\"iataCode\"]/span').text\n",
    "hora_salida = escalas[0].find_element_by_xpath('//div[@class=\"iataCode\"]/span[@class=\"time\"]').text\n",
    "airp_salida, hora_salida"
   ]
  },
  {
   "cell_type": "markdown",
   "metadata": {},
   "source": [
    "Cerrar la ventana emergente:"
   ]
  },
  {
   "cell_type": "code",
   "execution_count": 178,
   "metadata": {},
   "outputs": [],
   "source": [
    "boton_cerrar = driver.find_element_by_xpath('//div[@class=\"MuiPaper-root MuiDialog-paper MuiDialog-paperScrollPaper MuiDialog-paperWidthFalse col-sm-4 col-md-5 col-lg-5 MuiPaper-elevation24 MuiPaper-rounded\"]//button')\n",
    "boton_cerrar.click()"
   ]
  },
  {
   "cell_type": "markdown",
   "metadata": {},
   "source": [
    "Abrir info de precios vuelo 1:"
   ]
  },
  {
   "cell_type": "code",
   "execution_count": 184,
   "metadata": {},
   "outputs": [],
   "source": [
    "vuelo_2=vuelos[2]\n",
    "vuelo_2.click()"
   ]
  },
  {
   "cell_type": "code",
   "execution_count": 17,
   "metadata": {},
   "outputs": [
    {
     "data": {
      "text/plain": [
       "['basic', 'light', 'plus', 'top']"
      ]
     },
     "execution_count": 17,
     "metadata": {},
     "output_type": "execute_result"
    }
   ],
   "source": [
    "tipo_tiquete = vuelo_1.find_elements_by_xpath('.//span [@class=\"sc-cFlXAS lhMviV\"]')\n",
    "tipo_tiquete = [tipo.text for tipo in tipo_tiquete]\n",
    "tipo_tiquete"
   ]
  },
  {
   "cell_type": "code",
   "execution_count": 18,
   "metadata": {},
   "outputs": [
    {
     "data": {
      "text/plain": [
       "['$ 629.570,00', '$ 739.190,00', '$ 896.380,00', '$ 1.112.050,00']"
      ]
     },
     "execution_count": 18,
     "metadata": {},
     "output_type": "execute_result"
    }
   ],
   "source": [
    "precios = vuelo_1.find_elements_by_xpath('.//span [@class=\"sc-dRCTWM frWsLu displayAmount\"]')\n",
    "precios = [precio.text for precio in precios]\n",
    "precios"
   ]
  },
  {
   "cell_type": "markdown",
   "metadata": {},
   "source": [
    "# Funciones Automatizadas"
   ]
  },
  {
   "cell_type": "code",
   "execution_count": 215,
   "metadata": {},
   "outputs": [],
   "source": [
    "def obtener_precios(vuelo):\n",
    "    precio=[]\n",
    "    #Se abre el menu\n",
    "    vuelo.click()\n",
    "    \n",
    "    #sleep(1)\n",
    "    delay=5\n",
    "    try:\n",
    "        element = WebDriverWait(driver, delay).until(EC.presence_of_element_located((By.XPATH, './/span [@class=\"sc-cFlXAS lhMviV\"]')))\n",
    "        tipo_tiquete = vuelo.find_elements_by_xpath('.//span [@class=\"sc-cFlXAS lhMviV\"]')\n",
    "        tipo_tiquete = [tipo.text for tipo in tipo_tiquete]\n",
    "        \n",
    "        precios = vuelo.find_elements_by_xpath('.//span [@class=\"sc-dRCTWM frWsLu displayAmount\"]')\n",
    "        precios = [precio.text for precio in precios]\n",
    "    \n",
    "        [precio.append({tipo_tiquete[i]:precios[i]}) for i in range(len(precios))]\n",
    "    except TimeoutException:\n",
    "        print(\"La pagina tardó demasiado en cargar\")\n",
    "    \n",
    "    #tipo_tiquete = vuelo.find_elements_by_xpath('.//span [@class=\"sc-cFlXAS lhMviV\"]')\n",
    "    #tipo_tiquete = [tipo.text for tipo in tipo_tiquete]\n",
    "    \n",
    "    \n",
    "    #Se vuelve a cerrar el menu\n",
    "    #vuelo.click()\n",
    "    \n",
    "    return precio"
   ]
  },
  {
   "cell_type": "code",
   "execution_count": 205,
   "metadata": {},
   "outputs": [],
   "source": [
    "def obtener_escalas(vuelo_n):\n",
    "    from time import sleep\n",
    "    \n",
    "    #Abrir el boton\n",
    "    boton_escalas = vuelo_n.find_element_by_xpath('.//div[@class=\"sc-iuDHTM gHiWYR\"]/div')\n",
    "    boton_escalas.click()\n",
    "    \n",
    "    #Necesita un tiempo para cargar y luego buscar\n",
    "    sleep(2)\n",
    "    \n",
    "    #Hallar cada escala\n",
    "        \n",
    "    escalas = vuelo_n.find_elements_by_xpath('//section[@data-test=\"section-info-leg\"]')\n",
    "    cantidad_escalas = len(escalas)-1\n",
    "    \n",
    "    info_escalas=[]\n",
    "    \n",
    "    #Por cada Escala ponemos la hora de salida\n",
    "    for escala in escalas:\n",
    "        #Aeropuerto de salida\n",
    "        airp_salida = escala.find_element_by_xpath('.//div[@class=\"iataCode\"]/span').text\n",
    "        #hora de salida\n",
    "        hora_salida = escala.find_element_by_xpath('.//div[@class=\"iataCode\"]/span[@class=\"time\"]').text\n",
    "        #Aeropuerto de llegada\n",
    "        airp_llegada = escala.find_element_by_xpath('.//div[@class=\"sc-epGmkI hynWkG\"]//div[@class=\"iataCode\"]/span').text\n",
    "        #Hora de llegada\n",
    "        hora_llegada = escala.find_element_by_xpath('.//div[@class=\"sc-epGmkI hynWkG\"]//div[@class=\"iataCode\"]/span[@class=\"time\"]').text\n",
    "        \n",
    "        #Se añade la info de cada vuelo en la trayectoria\n",
    "        data = {'origin': airp_salida,\n",
    "                'dep_time': hora_salida, \n",
    "                'destiny': airp_llegada, \n",
    "                'arr_time': hora_llegada}\n",
    "        info_escalas.append(data)\n",
    "    \n",
    "    #Para cerrar el botón\n",
    "    boton_cerrar = driver.find_element_by_xpath('//div[@class=\"MuiPaper-root MuiDialog-paper MuiDialog-paperScrollPaper MuiDialog-paperWidthFalse col-sm-4 col-md-5 col-lg-5 MuiPaper-elevation24 MuiPaper-rounded\"]//button')\n",
    "    boton_cerrar.click()\n",
    "\n",
    "    return info_escalas"
   ]
  },
  {
   "cell_type": "code",
   "execution_count": 145,
   "metadata": {},
   "outputs": [],
   "source": [
    "def obtener_tiempo(vuelo):\n",
    "    \n",
    "    hora = vuelo.find_elements_by_xpath('.//span[@class=\"sc-lnmtFM ewiHQE\"]')\n",
    "    duracion = vuelo.find_element_by_xpath('.//span[@class=\"sc-FQuPU dkpBdw\"]').text \n",
    "    \n",
    "    salida = hora[0].text\n",
    "    llegada = hora[1].text\n",
    "\n",
    "    data = {'departure': salida,\n",
    "            'arrival': llegada,\n",
    "            'duration': duracion}\n",
    "    \n",
    "    \n",
    "    return data"
   ]
  },
  {
   "cell_type": "code",
   "execution_count": 202,
   "metadata": {},
   "outputs": [],
   "source": [
    "def obtener_info(driver):\n",
    "    vuelos = driver.find_elements_by_xpath('//li[@class = \"sc-fHSTwm danPdA\"]')\n",
    "    print(f'Se encontraron {len(vuelos)} vuelos.')\n",
    "    print(\"Iniciando scraping...\")\n",
    "    info = []\n",
    "    for vuelo in vuelos:\n",
    "        #obtenemos los tiempos de cada vuelo\n",
    "        tiempos = obtener_tiempo(vuelo)\n",
    "        #Obtenemos los precios\n",
    "        precios = obtener_precios(vuelo)\n",
    "        #Obtenemos las escalas\n",
    "        escalas = obtener_escalas(vuelo)\n",
    "        \n",
    "        info.append({'precios':precios,\n",
    "                     'tiempos':tiempos,\n",
    "                     'escalas':escalas})\n",
    "    return info"
   ]
  },
  {
   "cell_type": "markdown",
   "metadata": {},
   "source": [
    "## Técnica para crear delays dinámicos con Selenium"
   ]
  },
  {
   "cell_type": "code",
   "execution_count": null,
   "metadata": {},
   "outputs": [],
   "source": [
    "from selenium.webdriver.support.ui import WebDriverWait\n",
    "from selenium.webdriver.support import expected_conditions as EC\n",
    "from selenium.webdriver.common.by import By\n",
    "from selenium.common.exceptions import TimeoutException"
   ]
  },
  {
   "cell_type": "code",
   "execution_count": null,
   "metadata": {},
   "outputs": [],
   "source": [
    "#Se asigna un delay maximo\n",
    "delay=5\n",
    "try:\n",
    "#Se crea un elemento con la espera, dirigido hacia el path en Xpath del objeto que queremos buscar cuando cargue\n",
    "    element = WebDriverWait(path_anterior, delay).until(EC.presence_of_element_located((By.XPATH, '//li[@class=\"sc-fHSTwm danPdA\"]')))\n",
    "#Se continua el resto del procedimiento...\n",
    "    info_vuelos = obtener_info(driver)\n",
    "except TimeoutException:\n",
    "    print(\"La pagina tardó demasiado en cargar\")"
   ]
  },
  {
   "cell_type": "markdown",
   "metadata": {},
   "source": [
    "# Continuamos el codigo"
   ]
  },
  {
   "cell_type": "code",
   "execution_count": 217,
   "metadata": {},
   "outputs": [
    {
     "name": "stdout",
     "output_type": "stream",
     "text": [
      "La pagina terminó de cargar\n",
      "Se encontraron 10 vuelos.\n",
      "Iniciando scraping...\n"
     ]
    }
   ],
   "source": [
    "options = webdriver.FirefoxOptions()\n",
    "options.add_argument('-private')\n",
    "driver = webdriver.Firefox(executable_path=\"../geckodriver\", options=options)\n",
    "driver.get(url)\n",
    "#sleep(1)\n",
    "#Introducir una demora para cargar la pagina\n",
    "delay=5\n",
    "try:\n",
    "    element = WebDriverWait(driver, delay).until(EC.presence_of_element_located((By.XPATH, '//li[@class=\"sc-fHSTwm danPdA\"]')))\n",
    "    print(\"La pagina terminó de cargar\")\n",
    "    info_vuelos = obtener_info(driver)\n",
    "except TimeoutException:\n",
    "    print(\"La pagina tardó demasiado en cargar\")\n",
    "    info_vuelos = []\n",
    "    \n",
    "driver.close()"
   ]
  },
  {
   "cell_type": "code",
   "execution_count": 219,
   "metadata": {},
   "outputs": [
    {
     "data": {
      "text/plain": [
       "[{'precios': [{'basic': '$ 629.570,00'},\n",
       "   {'light': '$ 739.190,00'},\n",
       "   {'plus': '$ 896.380,00'},\n",
       "   {'top': '$ 1.112.050,00'}],\n",
       "  'tiempos': {'departure': '7:58 a. m.',\n",
       "   'arrival': '9:30 p. m.',\n",
       "   'duration': '13 h 32 min'},\n",
       "  'escalas': [{'origin': 'MDE',\n",
       "    'dep_time': '7:58 a. m.',\n",
       "    'destiny': 'BOG',\n",
       "    'arr_time': '8:50 a. m.'},\n",
       "   {'origin': 'BOG',\n",
       "    'dep_time': '6:27 p. m.',\n",
       "    'destiny': 'LIM',\n",
       "    'arr_time': '9:30 p. m.'}]},\n",
       " {'precios': [{'basic': '$ 629.570,00'},\n",
       "   {'light': '$ 739.190,00'},\n",
       "   {'plus': '$ 896.380,00'},\n",
       "   {'top': '$ 1.112.050,00'}],\n",
       "  'tiempos': {'departure': '8:29 a. m.',\n",
       "   'arrival': '9:30 p. m.',\n",
       "   'duration': '13 h 1 min'},\n",
       "  'escalas': [{'origin': 'MDE',\n",
       "    'dep_time': '8:29 a. m.',\n",
       "    'destiny': 'BOG',\n",
       "    'arr_time': '9:21 a. m.'},\n",
       "   {'origin': 'BOG',\n",
       "    'dep_time': '6:27 p. m.',\n",
       "    'destiny': 'LIM',\n",
       "    'arr_time': '9:30 p. m.'}]},\n",
       " {'precios': [{'basic': '$ 629.570,00'},\n",
       "   {'light': '$ 739.190,00'},\n",
       "   {'plus': '$ 896.380,00'},\n",
       "   {'top': '$ 1.112.050,00'}],\n",
       "  'tiempos': {'departure': '9:01 a. m.',\n",
       "   'arrival': '9:30 p. m.',\n",
       "   'duration': '12 h 29 min'},\n",
       "  'escalas': [{'origin': 'MDE',\n",
       "    'dep_time': '9:01 a. m.',\n",
       "    'destiny': 'BOG',\n",
       "    'arr_time': '9:53 a. m.'},\n",
       "   {'origin': 'BOG',\n",
       "    'dep_time': '6:27 p. m.',\n",
       "    'destiny': 'LIM',\n",
       "    'arr_time': '9:30 p. m.'}]},\n",
       " {'precios': [{'basic': '$ 629.570,00'},\n",
       "   {'light': '$ 739.190,00'},\n",
       "   {'plus': '$ 896.380,00'},\n",
       "   {'top': '$ 1.112.050,00'}],\n",
       "  'tiempos': {'departure': '10:17 a. m.',\n",
       "   'arrival': '9:30 p. m.',\n",
       "   'duration': '11 h 13 min'},\n",
       "  'escalas': [{'origin': 'MDE',\n",
       "    'dep_time': '10:17 a. m.',\n",
       "    'destiny': 'BOG',\n",
       "    'arr_time': '11:09 a. m.'},\n",
       "   {'origin': 'BOG',\n",
       "    'dep_time': '6:27 p. m.',\n",
       "    'destiny': 'LIM',\n",
       "    'arr_time': '9:30 p. m.'}]},\n",
       " {'precios': [{'basic': '$ 629.570,00'},\n",
       "   {'light': '$ 739.190,00'},\n",
       "   {'plus': '$ 896.380,00'},\n",
       "   {'top': '$ 1.112.050,00'}],\n",
       "  'tiempos': {'departure': '10:17 a. m.',\n",
       "   'arrival': '11:45 p. m.',\n",
       "   'duration': '13 h 28 min'},\n",
       "  'escalas': [{'origin': 'MDE',\n",
       "    'dep_time': '10:17 a. m.',\n",
       "    'destiny': 'BOG',\n",
       "    'arr_time': '11:09 a. m.'},\n",
       "   {'origin': 'BOG',\n",
       "    'dep_time': '8:46 p. m.',\n",
       "    'destiny': 'LIM',\n",
       "    'arr_time': '11:45 p. m.'}]},\n",
       " {'precios': [{'basic': '$ 629.570,00'},\n",
       "   {'light': '$ 739.190,00'},\n",
       "   {'plus': '$ 896.380,00'},\n",
       "   {'top': '$ 1.112.050,00'}],\n",
       "  'tiempos': {'departure': '1:18 p. m.',\n",
       "   'arrival': '9:30 p. m.',\n",
       "   'duration': '8 h 12 min'},\n",
       "  'escalas': [{'origin': 'MDE',\n",
       "    'dep_time': '1:18 p. m.',\n",
       "    'destiny': 'BOG',\n",
       "    'arr_time': '2:10 p. m.'},\n",
       "   {'origin': 'BOG',\n",
       "    'dep_time': '6:27 p. m.',\n",
       "    'destiny': 'LIM',\n",
       "    'arr_time': '9:30 p. m.'}]},\n",
       " {'precios': [{'basic': '$ 629.570,00'},\n",
       "   {'light': '$ 739.190,00'},\n",
       "   {'plus': '$ 896.380,00'},\n",
       "   {'top': '$ 1.112.050,00'}],\n",
       "  'tiempos': {'departure': '1:18 p. m.',\n",
       "   'arrival': '11:45 p. m.',\n",
       "   'duration': '10 h 27 min'},\n",
       "  'escalas': [{'origin': 'MDE',\n",
       "    'dep_time': '1:18 p. m.',\n",
       "    'destiny': 'BOG',\n",
       "    'arr_time': '2:10 p. m.'},\n",
       "   {'origin': 'BOG',\n",
       "    'dep_time': '8:46 p. m.',\n",
       "    'destiny': 'LIM',\n",
       "    'arr_time': '11:45 p. m.'}]},\n",
       " {'precios': [{'basic': '$ 629.570,00'},\n",
       "   {'light': '$ 739.190,00'},\n",
       "   {'plus': '$ 896.380,00'},\n",
       "   {'top': '$ 1.112.050,00'}],\n",
       "  'tiempos': {'departure': '1:45 p. m.',\n",
       "   'arrival': '9:30 p. m.',\n",
       "   'duration': '7 h 45 min'},\n",
       "  'escalas': [{'origin': 'MDE',\n",
       "    'dep_time': '1:45 p. m.',\n",
       "    'destiny': 'BOG',\n",
       "    'arr_time': '2:37 p. m.'},\n",
       "   {'origin': 'BOG',\n",
       "    'dep_time': '6:27 p. m.',\n",
       "    'destiny': 'LIM',\n",
       "    'arr_time': '9:30 p. m.'}]},\n",
       " {'precios': [{'basic': '$ 629.570,00'},\n",
       "   {'light': '$ 739.190,00'},\n",
       "   {'plus': '$ 896.380,00'},\n",
       "   {'top': '$ 1.112.050,00'}],\n",
       "  'tiempos': {'departure': '1:45 p. m.',\n",
       "   'arrival': '11:45 p. m.',\n",
       "   'duration': '10 h'},\n",
       "  'escalas': [{'origin': 'MDE',\n",
       "    'dep_time': '1:45 p. m.',\n",
       "    'destiny': 'BOG',\n",
       "    'arr_time': '2:37 p. m.'},\n",
       "   {'origin': 'BOG',\n",
       "    'dep_time': '8:46 p. m.',\n",
       "    'destiny': 'LIM',\n",
       "    'arr_time': '11:45 p. m.'}]},\n",
       " {'precios': [{'plus': '$ 6.017.750,00'}, {'top': '$ 6.953.620,00'}],\n",
       "  'tiempos': {'departure': '8:19 p. m.',\n",
       "   'arrival': '10:15 a. m.\\n+1',\n",
       "   'duration': '13 h 56 min'},\n",
       "  'escalas': [{'origin': 'MDE',\n",
       "    'dep_time': '8:19 p. m.',\n",
       "    'destiny': 'BOG',\n",
       "    'arr_time': '9:11 p. m.'},\n",
       "   {'origin': 'BOG',\n",
       "    'dep_time': '11:10 p. m.',\n",
       "    'destiny': 'SCL',\n",
       "    'arr_time': '6:50 a. m.'},\n",
       "   {'origin': 'SCL',\n",
       "    'dep_time': '8:31 a. m.',\n",
       "    'destiny': 'LIM',\n",
       "    'arr_time': '10:15 a. m.'}]}]"
      ]
     },
     "execution_count": 219,
     "metadata": {},
     "output_type": "execute_result"
    }
   ],
   "source": [
    "info_vuelos"
   ]
  },
  {
   "cell_type": "code",
   "execution_count": null,
   "metadata": {},
   "outputs": [],
   "source": []
  },
  {
   "cell_type": "code",
   "execution_count": null,
   "metadata": {},
   "outputs": [],
   "source": []
  }
 ],
 "metadata": {
  "kernelspec": {
   "display_name": "Python 3",
   "language": "python",
   "name": "python3"
  },
  "language_info": {
   "codemirror_mode": {
    "name": "ipython",
    "version": 3
   },
   "file_extension": ".py",
   "mimetype": "text/x-python",
   "name": "python",
   "nbconvert_exporter": "python",
   "pygments_lexer": "ipython3",
   "version": "3.7.4"
  }
 },
 "nbformat": 4,
 "nbformat_minor": 2
}
